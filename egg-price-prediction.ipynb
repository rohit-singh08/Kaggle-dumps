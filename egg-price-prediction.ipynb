{
 "cells": [
  {
   "cell_type": "code",
   "execution_count": 1,
   "id": "85bce929",
   "metadata": {
    "execution": {
     "iopub.execute_input": "2023-10-24T11:24:55.784059Z",
     "iopub.status.busy": "2023-10-24T11:24:55.783332Z",
     "iopub.status.idle": "2023-10-24T11:24:55.798264Z",
     "shell.execute_reply": "2023-10-24T11:24:55.797305Z"
    },
    "papermill": {
     "duration": 0.022338,
     "end_time": "2023-10-24T11:24:55.801405",
     "exception": false,
     "start_time": "2023-10-24T11:24:55.779067",
     "status": "completed"
    },
    "tags": []
   },
   "outputs": [],
   "source": [
    "import numpy as np"
   ]
  },
  {
   "cell_type": "code",
   "execution_count": null,
   "id": "9f64c41d",
   "metadata": {
    "papermill": {
     "duration": 0.002832,
     "end_time": "2023-10-24T11:24:55.806846",
     "exception": false,
     "start_time": "2023-10-24T11:24:55.804014",
     "status": "completed"
    },
    "tags": []
   },
   "outputs": [],
   "source": []
  }
 ],
 "metadata": {
  "kernelspec": {
   "display_name": "Python 3",
   "language": "python",
   "name": "python3"
  },
  "language_info": {
   "codemirror_mode": {
    "name": "ipython",
    "version": 3
   },
   "file_extension": ".py",
   "mimetype": "text/x-python",
   "name": "python",
   "nbconvert_exporter": "python",
   "pygments_lexer": "ipython3",
   "version": "3.10.12"
  },
  "papermill": {
   "default_parameters": {},
   "duration": 4.568615,
   "end_time": "2023-10-24T11:24:56.436611",
   "environment_variables": {},
   "exception": null,
   "input_path": "__notebook__.ipynb",
   "output_path": "__notebook__.ipynb",
   "parameters": {},
   "start_time": "2023-10-24T11:24:51.867996",
   "version": "2.4.0"
  }
 },
 "nbformat": 4,
 "nbformat_minor": 5
}
